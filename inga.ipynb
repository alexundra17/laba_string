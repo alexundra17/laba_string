{
 "cells": [
  {
   "cell_type": "code",
   "execution_count": 40,
   "metadata": {},
   "outputs": [],
   "source": [
    "import pandas as pd\n",
    "import numpy as np\n",
    "import matplotlib.pyplot as plt\n",
    "import traceback\n",
    "import matplotlib.gridspec as gridspec\n",
    "from matplotlib import rcParams\n",
    "import matplotlib.ticker as ticker\n",
    "import datetime\n",
    "from scipy.fftpack import fft\n",
    "from math import pi\n",
    "from sklearn.utils import shuffle\n",
    "import itertools\n",
    "\n"
   ]
  },
  {
   "cell_type": "code",
   "execution_count": 41,
   "metadata": {},
   "outputs": [],
   "source": [
    "def finder(T,dol_ho, dol_co):\n",
    "    mol = [28.97/1000, 44.01/1000, 18.01/1000]\n",
    "    Cp = [1.0036, 0.838, 1.863]\n",
    "    Cv = [0.7166, 0.629, 1.403]\n",
    "    R = 8.31\n",
    "    dol_air = 1-dol_co-dol_ho\n",
    "    xi = [dol_air, dol_co, dol_ho]\n",
    "    cp = 0\n",
    "    cv = 0\n",
    "    mol_all = 0\n",
    "    for i in range(2):\n",
    "        cp = cp + Cp[i]*mol[i]*xi[i]\n",
    "        cv = cv + Cv[i]*mol[i]*xi[i]\n",
    "        mol_all = mol_all + xi[i]*mol[i]\n",
    "    \n",
    "    gam = cp/cv\n",
    "    a = np.sqrt(gam*R*T/mol_all)\n",
    "    return (a)\n"
   ]
  },
  {
   "cell_type": "code",
   "execution_count": 42,
   "metadata": {
    "scrolled": true
   },
   "outputs": [
    {
     "name": "stdout",
     "output_type": "stream",
     "text": [
      "('Коэфициент линейной зависимости концентрации углекислого газа от скорости звука:', -1.0161240187436928, '\\n', 'Свободный член:', 348.6941844315355)\n"
     ]
    },
    {
     "data": {
      "image/png": "[encoded data removed]",
      "text/plain": [
       "<Figure size 432x288 with 1 Axes>"
      ]
     },
     "metadata": {
      "needs_background": "light"
     },
     "output_type": "display_data"
    }
   ],
   "source": [
    "dol_co = [i/2 for i in list(range(0,10))] \n",
    "a_mass = []\n",
    "for dol in dol_co:\n",
    "    a_mass.append(finder(293.15, 0, dol/100))\n",
    "    \n",
    "    \n",
    "    \n",
    "a, b = np.polyfit(a_mass, dol_co, 1)\n",
    "st_ln_ = 'Коэфициент линейной зависимости концентрации углекислого газа от скорости звука:', a, '\\n', 'Свободный член:', b\n",
    "st_ln = str(st_ln_)\n",
    "print(st_ln)\n",
    "\n",
    "fig = plt.figure()\n",
    "sun_plt = fig.add_subplot(1,1,1)\n",
    "\n",
    "sun_plt.set_xlabel(r'Доля $CO_{2}$ в воздухе')\n",
    "sun_plt.set_ylabel(r'Скорость звука, $м/с$ ')\n",
    "\n",
    "line=sun_plt.plot(dol_co, a_mass, linewidth = 1, label = 'Теоретическая зависимость', color='green')\n",
    "sun_plt.legend()\n",
    "\n",
    "my_file = open(\"C:/Users/gorar/Desktop/mipt/ing_lab.txt\", \"w+\", encoding='utf-8')\n",
    "my_file.write(st_ln)\n",
    "my_file.close()"
   ]
  },
  {
   "cell_type": "code",
   "execution_count": 39,
   "metadata": {},
   "outputs": [],
   "source": [
    "\n",
    "    \n"
   ]
  },
  {
   "cell_type": "code",
   "execution_count": null,
   "metadata": {},
   "outputs": [],
   "source": []
  }
 ],
 "metadata": {
  "kernelspec": {
   "display_name": "Python 3",
   "language": "python",
   "name": "python3"
  },
  "language_info": {
   "codemirror_mode": {
    "name": "ipython",
    "version": 3
   },
   "file_extension": ".py",
   "mimetype": "text/x-python",
   "name": "python",
   "nbconvert_exporter": "python",
   "pygments_lexer": "ipython3",
   "version": "3.7.6"
  }
 },
 "nbformat": 4,
 "nbformat_minor": 4
}
