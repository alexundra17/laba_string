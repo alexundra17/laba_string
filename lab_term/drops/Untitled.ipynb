{
 "cells": [
  {
   "cell_type": "code",
   "execution_count": 20,
   "metadata": {},
   "outputs": [],
   "source": [
    "import cv2\n",
    "import numpy as np\n",
    "import matplotlib.pyplot as plt\n",
    "import pandas as pd"
   ]
  },
  {
   "cell_type": "code",
   "execution_count": 21,
   "metadata": {},
   "outputs": [],
   "source": [
    "def viewImage(image):\n",
    "    window_name = 'image'\n",
    "    cv2.imshow(window_name, image)\n",
    "    cv2.waitKey(0)\n",
    "    cv2.destroyAllWindows()"
   ]
  },
  {
   "cell_type": "code",
   "execution_count": 22,
   "metadata": {},
   "outputs": [
    {
     "name": "stdout",
     "output_type": "stream",
     "text": [
      "[[[0 0 0]]]\n"
     ]
    }
   ],
   "source": [
    "white = np.uint8([[[0, 0, 0 ]]])\n",
    "white_hsv = cv2.cvtColor(white,cv2.COLOR_BGR2HSV)\n",
    "print( white_hsv)\n"
   ]
  },
  {
   "cell_type": "code",
   "execution_count": 61,
   "metadata": {},
   "outputs": [
    {
     "name": "stdout",
     "output_type": "stream",
     "text": [
      "200_Glyc_alc_2_3_23\n",
      "106\n",
      "256\n"
     ]
    }
   ],
   "source": [
    "\n",
    "Val = \"200\"\n",
    "Mat = \"Glyc\"\n",
    "Add = \"alc\"\n",
    "Per = \"2\"\n",
    "Att = \"3\"\n",
    "Tem = \"23\"\n",
    "\n",
    "name = Val+ \"_\" + Mat + \"_\" + Add + \"_\" +Per + \"_\" + Att +\"_\" + Tem\n",
    "print(name)\n",
    "image = cv2.imread(name + \".png\")\n",
    "w, h, c = image.shape\n",
    "\n",
    "print(w)\n",
    "print(h)\n",
    "# image  = cv2.resize(image, (h*7, w*7))\n",
    "hsv_img = cv2.cvtColor(image, cv2.COLOR_BGR2HSV)\n",
    "\n",
    "viewImage(hsv_img) \n",
    "\n"
   ]
  },
  {
   "cell_type": "code",
   "execution_count": 57,
   "metadata": {},
   "outputs": [],
   "source": [
    "white_low = np.array([0 , 0, 0] )\n",
    "\n",
    "white_high = np.array([1, 1, 1])\n",
    "\n",
    "curr_mask = cv2.inRange(hsv_img, white_low, white_high)\n",
    "hsv_img[curr_mask > 0] = ([0,0,0])\n",
    "viewImage(hsv_img) ## 2"
   ]
  },
  {
   "cell_type": "code",
   "execution_count": 62,
   "metadata": {
    "scrolled": true
   },
   "outputs": [
    {
     "name": "stdout",
     "output_type": "stream",
     "text": [
      "       x   y\n",
      "0    130  41\n",
      "1    129  42\n",
      "2    128  42\n",
      "3    127  42\n",
      "4    126  42\n",
      "..   ...  ..\n",
      "413  135  41\n",
      "414  134  41\n",
      "415  133  41\n",
      "416  132  41\n",
      "417  131  41\n",
      "\n",
      "[418 rows x 2 columns]\n"
     ]
    },
    {
     "data": {
      "text/plain": [
       "[<matplotlib.lines.Line2D at 0x228d7c54748>]"
      ]
     },
     "execution_count": 62,
     "metadata": {},
     "output_type": "execute_result"
    },
    {
     "data": {
      "image/png": "[encoded data removed]",
      "text/plain": [
       "<Figure size 432x288 with 1 Axes>"
      ]
     },
     "metadata": {
      "needs_background": "light"
     },
     "output_type": "display_data"
    }
   ],
   "source": [
    "# converting the HSV image to Gray inorder to be able to apply \n",
    "# contouring\n",
    "RGB_again = cv2.cvtColor(hsv_img, cv2.COLOR_HSV2RGB)\n",
    "gray = cv2.cvtColor(RGB_again, cv2.COLOR_RGB2GRAY)\n",
    "viewImage(gray) ## 3\n",
    "ret, threshold = cv2.threshold(gray, 90, 255, 0)\n",
    "viewImage(threshold) ## 4\n",
    "\n",
    "contours, hierarchy =  cv2.findContours(threshold,cv2.RETR_TREE,cv2.CHAIN_APPROX_NONE)\n",
    "# image2 = image\n",
    "# cv2.drawContours(image2, contours, -1, (0, 0, 255), 1)\n",
    "# viewImage(image2) ## 5\n",
    "\n",
    "\n",
    "\n",
    "cont = []\n",
    "for cnt in contours:\n",
    "                cnt_len = cv2.arcLength(cnt, True)\n",
    "                cnt = cv2.approxPolyDP(cnt, 0.002*cnt_len, True)\n",
    "                cont.append(cnt)\n",
    "image_app = image\n",
    "\n",
    "\n",
    "a = []\n",
    "for i in contours:\n",
    "    a.append(len(i))\n",
    "ind = (a.index(max(a)))\n",
    "\n",
    "cv2.drawContours(image_app, contours, ind, (0, 0, 255), 2)\n",
    "viewImage(image_app)\n",
    "\n",
    "x =  contours[ind][:, 0][:, 0]\n",
    "y = ( contours[ind][:, 0][:, 1])\n",
    "df = pd.DataFrame()\n",
    "df['x'] = x\n",
    "df['y'] = y\n",
    "print(df)\n",
    "\n",
    "path = \"C:/Users/gorar/Desktop/mipt/lab_term/drops/git_drops/\"\n",
    "\n",
    "df.to_csv(path + name+\".csv\")\n",
    "plt.plot(x, y)"
   ]
  },
  {
   "cell_type": "code",
   "execution_count": 10,
   "metadata": {},
   "outputs": [
    {
     "data": {
      "text/plain": [
       "True"
      ]
     },
     "execution_count": 10,
     "metadata": {},
     "output_type": "execute_result"
    }
   ],
   "source": [
    "cv2.imwrite('drop.png', image_app)\n"
   ]
  },
  {
   "cell_type": "code",
   "execution_count": 8,
   "metadata": {},
   "outputs": [
    {
     "name": "stdout",
     "output_type": "stream",
     "text": [
      "0.009622504486493762\n"
     ]
    }
   ],
   "source": [
    "print(1/60/np.sqrt(c))"
   ]
  },
  {
   "cell_type": "code",
   "execution_count": null,
   "metadata": {},
   "outputs": [],
   "source": []
  }
 ],
 "metadata": {
  "kernelspec": {
   "display_name": "Python 3",
   "language": "python",
   "name": "python3"
  },
  "language_info": {
   "codemirror_mode": {
    "name": "ipython",
    "version": 3
   },
   "file_extension": ".py",
   "mimetype": "text/x-python",
   "name": "python",
   "nbconvert_exporter": "python",
   "pygments_lexer": "ipython3",
   "version": "3.7.6"
  }
 },
 "nbformat": 4,
 "nbformat_minor": 4
}
