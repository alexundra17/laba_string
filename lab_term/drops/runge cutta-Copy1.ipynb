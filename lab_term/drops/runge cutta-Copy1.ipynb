{
 "cells": [
  {
   "cell_type": "code",
   "execution_count": 7,
   "metadata": {},
   "outputs": [],
   "source": [
    "import numpy as np\n",
    "import matplotlib.pyplot as plt\n",
    "from mpl_toolkits.mplot3d import Axes3D # For 3D Plotting of Systems\n",
    "%matplotlib inline"
   ]
  },
  {
   "cell_type": "code",
   "execution_count": 110,
   "metadata": {},
   "outputs": [],
   "source": [
    "#Runge-Kutta Method Single Time Step\n",
    "def rk4(func, t, a, dt):\n",
    "    \n",
    "    f = func[0]\n",
    "    \n",
    "    k1 = dt * f(t, a)\n",
    "    k2 = dt * f(t + 0.5 * dt, a + 0.5 * k1)\n",
    "    k3 = dt * f(t + 0.5 * dt, a + 0.5 * k2)\n",
    "    k4 = dt * f(t + dt, a + k3)\n",
    "    return (k1 + 2 * k2 + 2 * k3 + k4) / 6.\n",
    "\n"
   ]
  },
  {
   "cell_type": "code",
   "execution_count": 126,
   "metadata": {},
   "outputs": [],
   "source": [
    "# Constants \n",
    "\n",
    "\n",
    "c = 10*1000/0.073\n",
    "b = np.sin(1e-5)/1e-5 - c*1e-5\n",
    "\n",
    "#b - radios od curvation \n",
    "#c - capillar const\n",
    "\n",
    "#dx, df, dx for equtions, which determine form of the drop\n",
    "def dx(t, x):\n",
    "    return (x)\n",
    "\n"
   ]
  },
  {
   "cell_type": "code",
   "execution_count": 127,
   "metadata": {},
   "outputs": [],
   "source": [
    "def Laplas(x0, start_time, time_step):\n",
    "\n",
    "    x = [x0] \n",
    "    count = 0\n",
    "#     t = start_time or 0 # Start Time\n",
    "#     dt = time_step or 0.01 # Time Step\n",
    "    t = start_time  # Start Time\n",
    "    dt = time_step  # Time Step\n",
    "    \n",
    "    while t < 2:\n",
    "        t+= dt\n",
    "        tempx = x[count] # Temporary Start Points\n",
    "        func = np.array([dx])\n",
    "        \n",
    "        runge_kutta_4 = rk4(func, t, tempx, dt) # Rk4 Function\n",
    "        \n",
    "        tempx += runge_kutta_4\n",
    "        count +=1\n",
    "        \n",
    "        x.append(tempx)\n",
    "\n",
    "    return x"
   ]
  },
  {
   "cell_type": "code",
   "execution_count": 132,
   "metadata": {},
   "outputs": [
    {
     "name": "stdout",
     "output_type": "stream",
     "text": [
      "201\n",
      "1502\n",
      "7.389056097709364\n"
     ]
    },
    {
     "data": {
      "image/png": "[encoded data removed]",
      "text/plain": [
       "<Figure size 432x288 with 1 Axes>"
      ]
     },
     "metadata": {
      "needs_background": "light"
     },
     "output_type": "display_data"
    }
   ],
   "source": [
    "\n",
    "np.seterr(all='warn')\n",
    "x = Laplas(1, 0, 0.01)\n",
    "\n",
    "t = np.linspace(0, 2, len(x))\n",
    "\n",
    "print(len(t))\n",
    "print(len(z))\n",
    "\n",
    "\n",
    "plt.plot(t, x, marker = '*')\n",
    "print(x[len(x)-1])"
   ]
  },
  {
   "cell_type": "raw",
   "metadata": {},
   "source": [
    "# fig = plt.figure(figsize=(12,10))\n",
    "# This is how we set the 3D plot\n",
    "ax = fig.gca(projection='3d')\n",
    "# Plotting the values\n",
    "\n",
    "print(np.size(z), np.size(fi), np.size(z))\n",
    "ax.plot(x, y, z, lw=0.5,alpha=0.7)\n",
    " \n",
    "# Plotting the final values\n",
    "ax.scatter(x[-1],y[-1],z[-1],color=(1,0,0))\n",
    "#Very slightly different starting values\n",
    "x_1,y_1,z_1 = lorenz(0,0.9,1.04,0,0.01)\n",
    "#Plotting slightly different starting values\n",
    "ax.scatter(x_1[-1],y_1[-1],z_1[-1],color=(0,0,0))\n",
    "#Setting Axis Titles\n",
    "ax.set_xlabel(\"X Axis\")\n",
    "ax.set_ylabel(\"Y Axis\")\n",
    "ax.set_zlabel(\"Z Axis\")\n",
    "ax.set_title(\"Lorenz Attractor\")"
   ]
  },
  {
   "cell_type": "code",
   "execution_count": 86,
   "metadata": {},
   "outputs": [
    {
     "data": {
      "image/png": "[encoded data removed]",
      "text/plain": [
       "<Figure size 432x288 with 1 Axes>"
      ]
     },
     "metadata": {
      "needs_background": "light"
     },
     "output_type": "display_data"
    }
   ],
   "source": [
    "import math\n",
    "import numpy as np\n",
    "import matplotlib.pyplot as plt\n",
    "\n",
    "def runge_kutta(y, x, dx, f):\n",
    "    \"\"\" y is the initial value for y\n",
    "        x is the initial value for x\n",
    "        dx is the time step in x\n",
    "        f is derivative of function y(t)\n",
    "    \"\"\"\n",
    "    k1 = dx * f(y, x)\n",
    "    k2 = dx * f(y + 0.5 * k1, x + 0.5 * dx)\n",
    "    k3 = dx * f(y + 0.5 * k2, x + 0.5 * dx)\n",
    "    k4 = dx * f(y + k3, x + dx)\n",
    "    return y + (k1 + 2 * k2 + 2 * k3 + k4) / 6.\n",
    "\n",
    "if __name__=='__main__':\n",
    "    t = 0.\n",
    "    y = 1.\n",
    "    dt = .1\n",
    "    ys, ts = [], []\n",
    "    def func(y, t):\n",
    "        return t * math.sqrt(y)\n",
    "    while t <= 10:\n",
    "        y = runge_kutta(y, t, dt, func)\n",
    "        t += dt\n",
    "        ys.append(y)\n",
    "        ts.append(t)\n",
    "\n",
    "    exact = [(t ** 2 + 4) ** 2 / 16. for t in ts]\n",
    "    plt.plot(ts, ys, label='runge_kutta')\n",
    "#     plt.plot(ts, exact, label='exact')"
   ]
  },
  {
   "cell_type": "code",
   "execution_count": null,
   "metadata": {},
   "outputs": [],
   "source": []
  },
  {
   "cell_type": "code",
   "execution_count": null,
   "metadata": {},
   "outputs": [],
   "source": []
  }
 ],
 "metadata": {
  "kernelspec": {
   "display_name": "Python 3",
   "language": "python",
   "name": "python3"
  },
  "language_info": {
   "codemirror_mode": {
    "name": "ipython",
    "version": 3
   },
   "file_extension": ".py",
   "mimetype": "text/x-python",
   "name": "python",
   "nbconvert_exporter": "python",
   "pygments_lexer": "ipython3",
   "version": "3.7.6"
  }
 },
 "nbformat": 4,
 "nbformat_minor": 4
}
