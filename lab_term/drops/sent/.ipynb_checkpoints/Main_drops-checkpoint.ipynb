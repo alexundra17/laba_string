{
 "cells": [
  {
   "cell_type": "code",
   "execution_count": 11,
   "metadata": {},
   "outputs": [],
   "source": [
    "import numpy as np\n",
    "import matplotlib.pyplot as plt\n",
    "from mpl_toolkits.mplot3d import Axes3D # For 3D Plotting of Systems\n",
    "import pandas as pd\n",
    "from sympy import diff\n",
    "from scipy import integrate\n",
    "import scipy as sp\n",
    "%matplotlib inline"
   ]
  },
  {
   "cell_type": "code",
   "execution_count": 12,
   "metadata": {},
   "outputs": [],
   "source": [
    "def f_int(t, x, z):\n",
    "    a, b, c, d, e, f = np.polyfit(x, z, 5)\n",
    "    return(-t**2 * (5*a*t**4 + 4*b*t**3 + 3*c*t**2 + 2*d*t + e))"
   ]
  },
  {
   "cell_type": "code",
   "execution_count": 13,
   "metadata": {},
   "outputs": [],
   "source": [
    "def volume_calc(x, z):\n",
    "    mi = min(x)\n",
    "    ma = max(x)\n",
    "    v, err = integrate.quad(f_int, mi, ma, args = (x, z))\n",
    "    return np.pi*v\n",
    "    "
   ]
  },
  {
   "cell_type": "code",
   "execution_count": 14,
   "metadata": {},
   "outputs": [],
   "source": [
    "#Runge-Kutta Method Single Time Step\n",
    "def rk4(func, t, a, b, c, dt, b_k):\n",
    "    \"\"\"\n",
    "    Peforms a single time step of the Runge-Kutta 4th Order Method.\n",
    "    The below function finds the ki value for [dx,dy,dz] and return the value to move Yn+1\n",
    "    func is an input of functions, for the Lorenz system this is [dx,dy,dz]\n",
    "     \n",
    "    Recall Rk4 Equations :\n",
    "    k1 = h*f(xn,yn)\n",
    "    k2 = h*f(xn+h/2,yn+k1/2)\n",
    "    k3 = h*f(xn+h/2,yn+k2/2) \n",
    "    k4 = h*f(xn,yn+k3)\n",
    "    Where f is a function [dx,dy,dz]\n",
    "    Yn+1 = Yn + 1/6*(k1+k2+k3+k4)\n",
    "    \"\"\"\n",
    "    \n",
    "    k1, k2, k3, k4 = [], [], [], []\n",
    "    \n",
    "    for f in func:\n",
    "        k1.append(dt*f(t, a, b, c, b_k))\n",
    "        \n",
    "    for f in func:\n",
    "        k2.append(dt*f(t+dt/2, a+k1[0]/2, b+k1[1]/2, c+k1[2]/2, b_k))\n",
    "        \n",
    "    for f in func:\n",
    "        k3.append(dt*f(t+dt/2, a+k2[0]/2, b+k2[1]/2, c+k2[2]/2, b_k))\n",
    "        \n",
    "    for f in func:\n",
    "        k4.append( dt*f(t+dt, a+k3[0], b+k3[1], c+k3[1], b_k))\n",
    "        \n",
    "    k1, k2, k3, k4 = np.array(k1), np.array(k2), np.array(k3), np.array(k4)\n",
    "    \n",
    "    return (1/6)*(k1+2*k2+2*k3+k4)"
   ]
  },
  {
   "cell_type": "code",
   "execution_count": 15,
   "metadata": {},
   "outputs": [],
   "source": [
    "#function, which calculate error for each c value and finds optipal value"
   ]
  },
  {
   "cell_type": "code",
   "execution_count": 16,
   "metadata": {},
   "outputs": [],
   "source": [
    "# Constants \n",
    "\n",
    "# c = 10*1000/0.073\n",
    "\n",
    "\n",
    "#b - radios od curvation \n",
    "#c - capillar const\n",
    "\n",
    "#dx, df, dx for equtions, which determine form of the drop\n",
    "def dx(t, x, fi, z, b):\n",
    "    return np.cos(fi)\n",
    "\n",
    "def dfi(t, x, fi, z, b):\n",
    "    return 2*b-z-np.sin(fi)/(x+1e-5)\n",
    "\n",
    "def dz(t, x, fi, z, b):\n",
    "    return -np.sin(fi)"
   ]
  },
  {
   "cell_type": "code",
   "execution_count": 17,
   "metadata": {},
   "outputs": [],
   "source": [
    "def Laplas(x0, fi0, z0, start_time, time_step, b, t_max):\n",
    "\n",
    "    x, fi, z = [x0], [fi0], [z0] # Start Points\n",
    "    count = 0\n",
    "#     t = start_time or 0 # Start Time\n",
    "#     dt = time_step or 0.01 # Time Step\n",
    "    t = start_time  # Start Time\n",
    "    dt = time_step  # Time Step\n",
    "    \n",
    "    while t < t_max:\n",
    "        t+= dt\n",
    "        tempx, tempfi, tempz = x[count], fi[count], z[count] # Temporary Start Points\n",
    "        func = np.array([dx, dfi, dz])\n",
    "        \n",
    "        runge_kutta_4 = rk4(func, t, tempx, tempfi, tempz, dt, b) # Rk4 Function\n",
    "        \n",
    "        tempx += runge_kutta_4[0]\n",
    "        tempfi += runge_kutta_4[1]\n",
    "        tempz += runge_kutta_4[2]\n",
    "        count +=1\n",
    "        \n",
    "        x.append(tempx)\n",
    "        fi.append(tempfi)\n",
    "        z.append(tempz)  \n",
    "    return x, fi, z"
   ]
  },
  {
   "cell_type": "code",
   "execution_count": 18,
   "metadata": {
    "scrolled": false
   },
   "outputs": [],
   "source": [
    "#adress to Laplas function and then finds the polyfit approximation of the curve \n",
    "def graf(b, t_max):\n",
    "\n",
    "\n",
    "    np.seterr(all='warn')\n",
    "    x, fi, z = Laplas(0, 0, 0, 0, 0.01, b, t_max)\n",
    "\n",
    "    t = np.linspace(0, 1.6, len(z))\n",
    "\n",
    "    a, b, c, d, e, f = np.polyfit(x, z, 5)\n",
    "\n",
    "    xx = np.arange(min(x), max(x), 0.01)\n",
    "    yy = a*xx**5 + b*xx**4 + c*xx**3 + d*xx**2 + e*xx + f\n",
    "\n",
    "#     plt.plot(xx, yy)\n",
    "#     print(V)\n",
    "    return (x, fi, z)\n",
    "\n"
   ]
  },
  {
   "cell_type": "code",
   "execution_count": 19,
   "metadata": {},
   "outputs": [],
   "source": [
    "#finds current angle with diff\n",
    "def angle(x, y):\n",
    "    return np.arctan(np.diff(y)/np.diff(x))"
   ]
  },
  {
   "cell_type": "code",
   "execution_count": 194,
   "metadata": {},
   "outputs": [],
   "source": [
    "#determine contact angle\n",
    "def angl_exp(x1, y1):\n",
    "    ln = len(x1)\n",
    "    atan = np.arctan(diff(y1.loc[ln-30:ln-1])/diff(x1.loc[ln-30:ln-1])).dropna().reset_index(drop=True)\n",
    "    return np.mean(atan), x1.loc[ln-1]/y1.loc[ln-1]"
   ]
  },
  {
   "cell_type": "code",
   "execution_count": 195,
   "metadata": {},
   "outputs": [],
   "source": [
    "#finds x, z, which angle is equal to experimental\n",
    "def finds_angle(agl, experim_angl):\n",
    "    \n",
    "    for i in range(1, len(agl)):\n",
    "        if abs(agl[i])>abs(experim_angl):\n",
    "            return i"
   ]
  },
  {
   "cell_type": "code",
   "execution_count": 196,
   "metadata": {},
   "outputs": [],
   "source": [
    "#returns the index of the last element, before the shape becomes spiral\n",
    "def find_cut_ind(agl):\n",
    "    dif_agl = np.diff(agl)\n",
    "    dt = list(filter(lambda x: x>0, dif_agl))\n",
    "    plt.plot(dif_agl)\n",
    "    a = (list(dif_agl).index(dt[0]))\n",
    "    return a"
   ]
  },
  {
   "cell_type": "code",
   "execution_count": 197,
   "metadata": {},
   "outputs": [],
   "source": [
    "#finds approximate value of b, using coefficient table \n",
    "def finds_b_approx(ct_angl, rat, coef_tbl, acur_rel, acur_rel_xz):\n",
    "    \n",
    "    df_agl = pd.DataFrame()\n",
    "    acur_abs = ct_angl*acur_rel\n",
    "    \n",
    "    for j in range(len(coef_tbl)):\n",
    "        if abs(coef_tbl['angle'].loc[j])<abs(ct_angl+acur_abs) and abs(coef_tbl['angle'].loc[j])>abs(ct_angl-acur_abs):\n",
    "            df_agl = df_agl.append(coef_tbl.loc[j], ignore_index = True)\n",
    "\n",
    "    acur_abs_xz = (acur_rel_xz*rat)\n",
    "    df_fin = pd.DataFrame()\n",
    "    \n",
    "    for j in range(len(df_agl)):\n",
    "        if abs(df_agl['x/z'].loc[j])<abs(rat+acur_abs_xz) and abs(df_agl['x/z'].loc[j])>abs(rat-acur_abs_xz):\n",
    "            df_fin = df_fin.append(df_agl.loc[j], ignore_index = True)\n",
    "    return df_fin"
   ]
  },
  {
   "cell_type": "code",
   "execution_count": 198,
   "metadata": {},
   "outputs": [],
   "source": [
    "#function which normalize experimental data \n",
    "def normalize(x1, y1, z_ap):\n",
    "    x2 = z_ap[len(z_ap)-1]*x1/y1.loc[len(y1)-1]\n",
    "    y2 = z_ap[len(z_ap)-1]*y1/y1.loc[len(y1)-1]\n",
    "    return x2, y2"
   ]
  },
  {
   "cell_type": "code",
   "execution_count": 199,
   "metadata": {},
   "outputs": [],
   "source": [
    "#finds distance between exp and theor curves\n",
    "def distance(b_i, T, x2, y2):\n",
    "    x_ap, fi, z_ap = graf(b_i, T)\n",
    "    \n",
    "   \n",
    "    \n",
    "    x_ap_new =[]\n",
    "    z_ap_new = []\n",
    "    \n",
    "    for j in range(len(x2)):\n",
    "        df_c = []\n",
    "        for i in range(len(x_ap)):\n",
    "            df_c.append(abs(x2[j]-x_ap[i]))\n",
    "        ind = df_c.index(min(df_c))\n",
    "        x_ap_new.append(x_ap[ind])\n",
    "        z_ap_new.append(z_ap[ind])    \n",
    "\n",
    "    dist = []\n",
    "\n",
    "    for n in range(len(x2)):\n",
    "        x2_i = x2[n]\n",
    "        y2_i = y2[n]\n",
    "        x_ap_i = x_ap_new[n]\n",
    "        z_ap_i = z_ap_new[n]\n",
    "        dist_i = ((x_ap_i - x2_i)**2 + (z_ap_i - y2_i)**2)\n",
    "        dist.append(dist_i)\n",
    "\n",
    "    dist_v = sum(dist)/len(dist)\n",
    "    \n",
    "    return dist_v"
   ]
  },
  {
   "cell_type": "code",
   "execution_count": null,
   "metadata": {},
   "outputs": [],
   "source": []
  },
  {
   "cell_type": "code",
   "execution_count": 200,
   "metadata": {},
   "outputs": [],
   "source": [
    "def surf_ten(z_pr, y1):\n",
    "    H_th = max(z_pr) - min(z_pr)\n",
    "    H_exp = 0.000788\n",
    "    c = (H_th/H_exp)**2\n",
    "    return 10**4/c"
   ]
  },
  {
   "cell_type": "code",
   "execution_count": 201,
   "metadata": {},
   "outputs": [
    {
     "data": {
      "text/plain": [
       "[<matplotlib.lines.Line2D at 0x1fe1c7c1f08>]"
      ]
     },
     "execution_count": 201,
     "metadata": {},
     "output_type": "execute_result"
    },
    {
     "data": {
      "image/png": "[encoded data removed]",
      "text/plain": [
       "<Figure size 432x288 with 1 Axes>"
      ]
     },
     "metadata": {
      "needs_background": "light"
     },
     "output_type": "display_data"
    },
    {
     "data": {
      "image/png": "[encoded data removed]",
      "text/plain": [
       "<Figure size 432x288 with 1 Axes>"
      ]
     },
     "metadata": {
      "needs_background": "light"
     },
     "output_type": "display_data"
    }
   ],
   "source": [
    "#main function, which adress to other functions and receive the x, z and fi\n",
    "\n",
    "b = 1\n",
    "t_max = 1.1\n",
    "x, fi, z = graf(b, t_max)\n",
    "\n",
    "\n",
    "agl = angle(x, z)\n",
    "plt.figure()\n",
    "plt.plot(x, z)\n",
    "plt.figure()\n",
    "plt.plot(x[0:-1], -agl*180/np.pi)\n",
    "\n",
    "\n"
   ]
  },
  {
   "cell_type": "code",
   "execution_count": 210,
   "metadata": {
    "scrolled": false
   },
   "outputs": [
    {
     "name": "stdout",
     "output_type": "stream",
     "text": [
      "62.06896551724141\n",
      "-1.937007874015748\n"
     ]
    },
    {
     "data": {
      "text/plain": [
       "[<matplotlib.lines.Line2D at 0x1fe1311b548>]"
      ]
     },
     "execution_count": 210,
     "metadata": {},
     "output_type": "execute_result"
    },
    {
     "data": {
      "image/png": "[encoded data removed]",
      "text/plain": [
       "<Figure size 432x288 with 1 Axes>"
      ]
     },
     "metadata": {
      "needs_background": "light"
     },
     "output_type": "display_data"
    }
   ],
   "source": [
    "#Import exp data from file, plot graf and determine contact angle\n",
    "\n",
    "Val_int = 200\n",
    "Val = str(Val_int)\n",
    "Mat = \"water\"\n",
    "Add = \"alc\"\n",
    "Per = \"1\"\n",
    "Att = \"3\"\n",
    "\n",
    "\n",
    "Tem_int = 23\n",
    "Tem = str(Tem_int)\n",
    "\n",
    "name = Val+ \"_\" + Mat + \"_\" + Add + \"_\" +Per + \"_\" + Att + \"_\" + Tem\n",
    "\n",
    "\n",
    "\n",
    "h = pd.read_csv(name + '.csv')\n",
    "\n",
    "h['x'] = -h['x']\n",
    "h['y'] = -h['y']\n",
    "\n",
    "\n",
    "# h['x'] = h['x'] - h['x'].loc[28]\n",
    "# h['y'] = h['y'] - h['y'].loc[28]\n",
    "\n",
    "# x1 = h['x'].loc[28:37].reset_index(drop=True)\n",
    "# y1 = h['y'].loc[28:37].reset_index(drop=True)\n",
    "\n",
    "mn = min(h['y'])\n",
    "df2 = h[h['y']!=mn].reset_index(drop=True)\n",
    "\n",
    "ln = len(df2)\n",
    "\n",
    "cut_num = ln//2-30\n",
    "\n",
    "x1 = df2['x'].loc[0:cut_num].reset_index(drop=True) - df2['x'].loc[0]\n",
    "y1 = df2['y'].loc[0:cut_num].reset_index(drop=True) - df2['y'].loc[0]\n",
    "\n",
    "\n",
    "# plt.plot(x1, y1, marker = '*')\n",
    "\n",
    "ct_angl, rat = angl_exp(x1, y1)\n",
    "print(-ct_angl*180/np.pi)\n",
    "print(rat)\n",
    "# plt.plot(x, z)\n",
    "\n",
    "plt.plot(x1, y1, linewidth = 0, marker = \"*\")\n"
   ]
  },
  {
   "cell_type": "code",
   "execution_count": 94,
   "metadata": {
    "scrolled": false
   },
   "outputs": [
    {
     "name": "stdout",
     "output_type": "stream",
     "text": [
      "[[ 0.38197494  0.85873643  1.43152839  2.00429081  2.57715326  3.15018265\n",
      "   3.72343102  4.29694552  4.87077128  5.44495251  6.01953291  6.59455591\n",
      "   7.1700648   7.74610274  8.32271286  8.89993823  9.4778219  10.05640693\n",
      "  10.63573635 11.21585319 11.79680048 12.37862127 12.96135861 13.54505555\n",
      "  14.12975516 14.71550051 15.3023347  15.89030082 16.479442   17.06980135\n",
      "  17.66142202 18.25434718 18.84861998 19.44428362 20.04138131 20.63995626\n",
      "  21.2400517  21.84171089 22.4449771  23.0498936  23.6565037  24.26485071\n",
      "  24.87497795 25.48692878 26.10074656 26.71647466 27.33415647 27.95383539\n",
      "  28.57555486 29.19935828 29.82528913 30.45339084 31.08370689 31.71628077\n",
      "  32.35115597 32.98837598 33.62798433 34.27002453 34.91454012 35.56157464\n",
      "  36.21117162 36.86337463 37.51822722 38.17577295 38.83605539 39.4991181\n",
      "  40.16500466 40.83375864 41.50542362 42.18004316 42.85766085 43.53832025\n",
      "  44.22206493 44.90893846 45.59898441 46.29224633 46.98876778 47.6885923\n",
      "  48.39176346 49.09832478 49.80831981 50.52179206 51.23878508 51.95934237\n",
      "  52.68350746 53.41132386 54.14283507 54.87808461 55.61711597 56.35997268\n",
      "  57.10669823 57.85733615 58.61192995 59.37052317 60.13315935 60.89988205\n",
      "  61.67073486 62.44576138 63.22500524 64.00851012 64.79631972 65.58847781\n",
      "  66.3850282  67.18601476 67.99148143 68.80147226 69.61603135 70.43520292\n",
      "  71.25903132 72.08756099]]\n",
      "90.0\n"
     ]
    },
    {
     "ename": "TypeError",
     "evalue": "list indices must be integers or slices, not NoneType",
     "output_type": "error",
     "traceback": [
      "\u001b[1;31m---------------------------------------------------------------------------\u001b[0m",
      "\u001b[1;31mTypeError\u001b[0m                                 Traceback (most recent call last)",
      "\u001b[1;32m<ipython-input-94-4dde8011e5b6>\u001b[0m in \u001b[0;36m<module>\u001b[1;34m\u001b[0m\n\u001b[0;32m     12\u001b[0m \u001b[0mplt\u001b[0m\u001b[1;33m.\u001b[0m\u001b[0mplot\u001b[0m\u001b[1;33m(\u001b[0m\u001b[0mx\u001b[0m\u001b[1;33m,\u001b[0m \u001b[0mz\u001b[0m\u001b[1;33m)\u001b[0m\u001b[1;33m\u001b[0m\u001b[1;33m\u001b[0m\u001b[0m\n\u001b[0;32m     13\u001b[0m \u001b[1;33m\u001b[0m\u001b[0m\n\u001b[1;32m---> 14\u001b[1;33m \u001b[0mplt\u001b[0m\u001b[1;33m.\u001b[0m\u001b[0mplot\u001b[0m\u001b[1;33m(\u001b[0m\u001b[0mx\u001b[0m\u001b[1;33m[\u001b[0m\u001b[0mind\u001b[0m\u001b[1;33m]\u001b[0m\u001b[1;33m,\u001b[0m \u001b[0mz\u001b[0m\u001b[1;33m[\u001b[0m\u001b[0mind\u001b[0m\u001b[1;33m]\u001b[0m\u001b[1;33m,\u001b[0m \u001b[0mmarker\u001b[0m \u001b[1;33m=\u001b[0m \u001b[1;34m'*'\u001b[0m\u001b[1;33m)\u001b[0m\u001b[1;33m\u001b[0m\u001b[1;33m\u001b[0m\u001b[0m\n\u001b[0m\u001b[0;32m     15\u001b[0m \u001b[1;33m\u001b[0m\u001b[0m\n\u001b[0;32m     16\u001b[0m \u001b[0mx_cut\u001b[0m \u001b[1;33m=\u001b[0m \u001b[0mx\u001b[0m\u001b[1;33m[\u001b[0m\u001b[1;36m0\u001b[0m\u001b[1;33m:\u001b[0m\u001b[0mind\u001b[0m\u001b[1;33m]\u001b[0m\u001b[1;33m\u001b[0m\u001b[1;33m\u001b[0m\u001b[0m\n",
      "\u001b[1;31mTypeError\u001b[0m: list indices must be integers or slices, not NoneType"
     ]
    },
    {
     "data": {
      "image/png": "[encoded data removed]",
      "text/plain": [
       "<Figure size 432x288 with 1 Axes>"
      ]
     },
     "metadata": {
      "needs_background": "light"
     },
     "output_type": "display_data"
    }
   ],
   "source": [
    "#plotting curve with point, denote the contact angle and cut curve \n",
    "\n",
    "\n",
    "ind = finds_angle(agl, ct_angl)\n",
    "\n",
    "\n",
    "\n",
    "print(-agl[ind]*180/np.pi)\n",
    "print(-ct_angl*180/np.pi)\n",
    "\n",
    "plt.figure()\n",
    "plt.plot(x, z)\n",
    "\n",
    "plt.plot(x[ind], z[ind], marker = '*')\n",
    "\n",
    "x_cut = x[0:ind]\n",
    "z_cut = z[0:ind]\n",
    "agl_cut = agl[0:ind]\n",
    "\n",
    "plt.figure()\n",
    "plt.plot(x_cut, z_cut)\n",
    "\n",
    "plt.figure()\n",
    "plt.plot(x_cut, -agl_cut*180/np.pi)\n",
    "\n",
    "print(x[ind]/z[ind])"
   ]
  },
  {
   "cell_type": "code",
   "execution_count": 203,
   "metadata": {},
   "outputs": [
    {
     "name": "stdout",
     "output_type": "stream",
     "text": [
      "-1.0833078115826877\n"
     ]
    }
   ],
   "source": [
    "print(ct_angl)"
   ]
  },
  {
   "cell_type": "code",
   "execution_count": 205,
   "metadata": {},
   "outputs": [
    {
     "name": "stdout",
     "output_type": "stream",
     "text": [
      "   T_max  Unnamed: 0     angle    b       x/z\n",
      "0   1.62      1662.0 -1.089878  0.5 -1.954607\n"
     ]
    }
   ],
   "source": [
    "#import coefficient table and adress to function, which finds b\n",
    "\n",
    "\n",
    "coef_tbl = pd.read_csv('coef.csv')\n",
    "acur_rel = 0.01\n",
    "acur_rel_xz = 0.01\n",
    "df_approx = finds_b_approx(ct_angl, rat, coef_tbl, acur_rel, acur_rel_xz)\n",
    "\n",
    "print(df_approx)\n"
   ]
  },
  {
   "cell_type": "code",
   "execution_count": 206,
   "metadata": {},
   "outputs": [
    {
     "name": "stdout",
     "output_type": "stream",
     "text": [
      "   T_max  Unnamed: 0     angle    b       x/z\n",
      "0   1.62      1662.0 -1.089878  0.5 -1.954607\n",
      "       dist     b\n",
      "0  0.000139  0.49\n"
     ]
    }
   ],
   "source": [
    "#finds optimized value of b\n",
    "\n",
    "print(df_approx)\n",
    "B_ap = float(df_approx['b'].loc[0])\n",
    "T_ap = float(df_approx['T_max'].loc[0])\n",
    "x_ap, f_ap, z_ap = graf(B_ap, T_ap)\n",
    "\n",
    "\n",
    "x2, y2 = normalize(x1, y1, z_ap)\n",
    "dist_v = distance(B_ap, T_ap, x2, y2)\n",
    "\n",
    "x2_inter = np.linspace(min(x2), max(x2), len(x_ap))\n",
    "y2_inter = np.interp(x2_inter, x2, y2)\n",
    "\n",
    "step = 0.001\n",
    "dev = 0.1\n",
    "B_arr = np.arange(B_ap-dev, B_ap+dev, step)\n",
    "\n",
    "dist_res = pd.DataFrame()\n",
    "\n",
    "for b_i in B_arr:\n",
    "    dist_v_i = distance(b_i, T_ap, x2, y2)\n",
    "    dist_res_i = pd.DataFrame()\n",
    "    dist_res_i['dist'] = [dist_v_i]\n",
    "    dist_res_i['b'] = [b_i]\n",
    "    dist_res = dist_res.append(dist_res_i)\n",
    "\n",
    "min_dist = dist_res[dist_res['dist'] == min(dist_res['dist'])]\n",
    "print(min_dist)\n",
    "B_pr = min_dist['b'].loc[0]\n"
   ]
  },
  {
   "cell_type": "code",
   "execution_count": 207,
   "metadata": {
    "scrolled": true
   },
   "outputs": [
    {
     "name": "stdout",
     "output_type": "stream",
     "text": [
      "-2.00053289741253\n",
      "2.3778642898321913\n"
     ]
    },
    {
     "data": {
      "image/png": "[encoded data removed]",
      "text/plain": [
       "<Figure size 432x288 with 1 Axes>"
      ]
     },
     "metadata": {
      "needs_background": "light"
     },
     "output_type": "display_data"
    }
   ],
   "source": [
    "#plotting exp and theor curves\n",
    "\n",
    "x_pr, f_pr, z_pr = graf(B_pr, T_ap)\n",
    "\n",
    "V = volume_calc(x_pr, z_pr)\n",
    "\n",
    "plt.plot(x_pr, z_pr, label = \"Pr_b\")\n",
    "\n",
    "plt.plot(x_ap, z_ap, label = \"Ap_b\")\n",
    "plt.plot(x2, y2, label = \"Exp\")\n",
    "\n",
    "\n",
    "plt.legend()\n",
    "print(x_pr[len(x_pr)-1]/z_pr[len(z_pr)-1])\n",
    "\n",
    "print(V)"
   ]
  },
  {
   "cell_type": "code",
   "execution_count": 226,
   "metadata": {},
   "outputs": [],
   "source": [
    "#constants\n",
    "po = 1000\n",
    "c = (Val_int*1e-9/V)**(-2/3)"
   ]
  },
  {
   "cell_type": "code",
   "execution_count": 229,
   "metadata": {},
   "outputs": [],
   "source": [
    "df_output = pd.DataFrame()\n",
    "df_output[\"Main_Material\"] = [Mat]\n",
    "df_output[\"Main_Value\"] =[Val]\n",
    "df_output[\"Addition_Material\"] = [Add]\n",
    "df_output[\"Percent_of_Addition_Material\"] =[ Per]\n",
    "df_output[\"Attempt\"] = [Att]\n",
    "df_output[\"Temperature\"] = [Tem_int]\n",
    "df_output[\"x/z\"] = [rat]\n",
    "df_output[\"angle\"] = [ct_angl]\n",
    "df_output[\"b\"] =[ B_pr]\n",
    "df_output[\"Value\"] = [V]\n",
    "df_output[\"cap_const\"] = [c]\n",
    "df_output[\"sigma\"] = [9.81*po/c]"
   ]
  },
  {
   "cell_type": "code",
   "execution_count": 230,
   "metadata": {},
   "outputs": [],
   "source": [
    "name_2 = name + \"_\" + \"output\"\n",
    "\n",
    "\n",
    "df_output.to_csv(name_2 + \".csv\")"
   ]
  },
  {
   "cell_type": "code",
   "execution_count": 44,
   "metadata": {},
   "outputs": [
    {
     "ename": "NameError",
     "evalue": "name 'data_coef' is not defined",
     "output_type": "error",
     "traceback": [
      "\u001b[1;31m---------------------------------------------------------------------------\u001b[0m",
      "\u001b[1;31mNameError\u001b[0m                                 Traceback (most recent call last)",
      "\u001b[1;32m<ipython-input-44-336429ee08e7>\u001b[0m in \u001b[0;36m<module>\u001b[1;34m\u001b[0m\n\u001b[1;32m----> 1\u001b[1;33m \u001b[0mdata_coef\u001b[0m\u001b[1;33m.\u001b[0m\u001b[0mto_csv\u001b[0m\u001b[1;33m(\u001b[0m\u001b[1;34m'coef.csv'\u001b[0m\u001b[1;33m)\u001b[0m\u001b[1;33m\u001b[0m\u001b[1;33m\u001b[0m\u001b[0m\n\u001b[0m",
      "\u001b[1;31mNameError\u001b[0m: name 'data_coef' is not defined"
     ]
    }
   ],
   "source": [
    "data_coef.to_csv('coef.csv')"
   ]
  },
  {
   "cell_type": "code",
   "execution_count": null,
   "metadata": {},
   "outputs": [],
   "source": []
  }
 ],
 "metadata": {
  "kernelspec": {
   "display_name": "Python 3",
   "language": "python",
   "name": "python3"
  },
  "language_info": {
   "codemirror_mode": {
    "name": "ipython",
    "version": 3
   },
   "file_extension": ".py",
   "mimetype": "text/x-python",
   "name": "python",
   "nbconvert_exporter": "python",
   "pygments_lexer": "ipython3",
   "version": "3.7.6"
  }
 },
 "nbformat": 4,
 "nbformat_minor": 4
}
