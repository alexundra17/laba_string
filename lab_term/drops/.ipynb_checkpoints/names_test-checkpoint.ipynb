{
 "cells": [
  {
   "cell_type": "code",
   "execution_count": 4,
   "metadata": {},
   "outputs": [],
   "source": [
    "import numpy as np\n",
    "import matplotlib.pyplot as plt\n",
    "from mpl_toolkits.mplot3d import Axes3D # For 3D Plotting of Systems\n",
    "import pandas as pd\n",
    "from sympy import diff\n",
    "from scipy import integrate\n",
    "import scipy as sp\n",
    "import cv2\n",
    "%matplotlib inline"
   ]
  },
  {
   "cell_type": "code",
   "execution_count": 5,
   "metadata": {},
   "outputs": [],
   "source": [
    "def viewImage(image):\n",
    "    window_name = 'image'\n",
    "    cv2.imshow(window_name, image)\n",
    "    cv2.waitKey(0)\n",
    "    cv2.destroyAllWindows()"
   ]
  },
  {
   "cell_type": "code",
   "execution_count": 12,
   "metadata": {},
   "outputs": [
    {
     "name": "stdout",
     "output_type": "stream",
     "text": [
      "  Main_Material  Main_Value Addition_Material  Percent_of_Addition_Material  \\\n",
      "0         water       200.0               alc                           1.0   \n",
      "1          glic       300.0               NaN                           NaN   \n",
      "2           NaN         NaN               NaN                           NaN   \n",
      "\n",
      "   Attempt  Temperature  \n",
      "0        1         23.0  \n",
      "1        2          NaN  \n",
      "2        3          NaN  \n"
     ]
    }
   ],
   "source": [
    "dff = pd.read_csv('names.csv')\n",
    "\n",
    "print(dff)\n",
    "\n",
    "name_arr = []\n",
    "for Mati in dff['Main_Material'].dropna():\n",
    "    for Main_Value in dff['Main_Value'].dropna():\n",
    "        for Addition_Material in dff['Addition_Material'].dropna():\n",
    "            for Percent_of_Addition_Material in dff['Percent_of_Addition_Material'].dropna():\n",
    "                for Attempt in dff['Attempt'].dropna():\n",
    "                    for Temperature in dff['Temperature'].dropna():\n",
    "                        Val = int(Main_Value)\n",
    "                        Mat = Mati\n",
    "                        Add = Addition_Material\n",
    "                        Per = int(Percent_of_Addition_Material)\n",
    "                        Att = int(Attempt)\n",
    "                        Tem = int(Temperature)\n",
    "                        name_i = str(Val)+ \"_\" + Mat + \"_\" + Add + \"_\" + str(Per) + \"_\" + str(Att) +\"_\" + str(Tem)\n",
    "                        name_arr.append(name_i)\n",
    "                        \n",
    "                        \n",
    "\n"
   ]
  },
  {
   "cell_type": "code",
   "execution_count": 13,
   "metadata": {},
   "outputs": [
    {
     "name": "stdout",
     "output_type": "stream",
     "text": [
      "[[[0 0 0]]]\n"
     ]
    }
   ],
   "source": [
    "white = np.uint8([[[0, 0, 0 ]]])\n",
    "white_hsv = cv2.cvtColor(white,cv2.COLOR_BGR2HSV)\n",
    "print( white_hsv)"
   ]
  },
  {
   "cell_type": "code",
   "execution_count": 16,
   "metadata": {},
   "outputs": [
    {
     "name": "stdout",
     "output_type": "stream",
     "text": [
      "237\n",
      "830\n",
      "        x   y\n",
      "0     376  49\n",
      "1     375  50\n",
      "2     374  50\n",
      "3     373  50\n",
      "4     372  50\n",
      "...   ...  ..\n",
      "1621  381  49\n",
      "1622  380  49\n",
      "1623  379  49\n",
      "1624  378  49\n",
      "1625  377  49\n",
      "\n",
      "[1626 rows x 2 columns]\n",
      "176\n",
      "503\n",
      "        x   y\n",
      "0     230  46\n",
      "1     229  47\n",
      "2     228  47\n",
      "3     227  47\n",
      "4     226  47\n",
      "...   ...  ..\n",
      "1031  235  46\n",
      "1032  234  46\n",
      "1033  233  46\n",
      "1034  232  47\n",
      "1035  231  46\n",
      "\n",
      "[1036 rows x 2 columns]\n",
      "162\n",
      "568\n",
      "        x   y\n",
      "0     246  33\n",
      "1     245  34\n",
      "2     244  34\n",
      "3     243  34\n",
      "4     242  34\n",
      "...   ...  ..\n",
      "1150  251  33\n",
      "1151  250  33\n",
      "1152  249  33\n",
      "1153  248  33\n",
      "1154  247  33\n",
      "\n",
      "[1155 rows x 2 columns]\n",
      "file doesnt exist 300_water_alc_1_1_23\n",
      "file doesnt exist 300_water_alc_1_2_23\n",
      "file doesnt exist 300_water_alc_1_3_23\n",
      "file doesnt exist 200_glic_alc_1_1_23\n",
      "file doesnt exist 200_glic_alc_1_2_23\n",
      "file doesnt exist 200_glic_alc_1_3_23\n",
      "file doesnt exist 300_glic_alc_1_1_23\n",
      "file doesnt exist 300_glic_alc_1_2_23\n",
      "file doesnt exist 300_glic_alc_1_3_23\n"
     ]
    }
   ],
   "source": [
    "for name in name_arr:\n",
    "    try:\n",
    "        image = cv2.imread(name + \".png\")\n",
    "        w, h, c = image.shape\n",
    "        print(w)\n",
    "        print(h)\n",
    "        # image  = cv2.resize(image, (h*7, w*7))\n",
    "        hsv_img = cv2.cvtColor(image, cv2.COLOR_BGR2HSV)\n",
    "#         viewImage(hsv_img) \n",
    "        white_low = np.array([0 , 0, 0] )\n",
    "        white_high = np.array([1, 1, 1])\n",
    "\n",
    "        curr_mask = cv2.inRange(hsv_img, white_low, white_high)\n",
    "        hsv_img[curr_mask > 0] = ([0,0,0])\n",
    "#         viewImage(hsv_img) ## 2\n",
    "        # converting the HSV image to Gray inorder to be able to apply \n",
    "    # contouring\n",
    "        RGB_again = cv2.cvtColor(hsv_img, cv2.COLOR_HSV2RGB)\n",
    "        gray = cv2.cvtColor(RGB_again, cv2.COLOR_RGB2GRAY)\n",
    "#         viewImage(gray) ## 3\n",
    "        ret, threshold = cv2.threshold(gray, 135, 255, 0)\n",
    "    #     viewImage(threshold) ## 4\n",
    "\n",
    "        contours, hierarchy =  cv2.findContours(threshold,cv2.RETR_TREE,cv2.CHAIN_APPROX_NONE)\n",
    "        # image2 = image\n",
    "        # cv2.drawContours(image2, contours, -1, (0, 0, 255), 1)\n",
    "        # viewImage(image2) ## 5\n",
    "\n",
    "\n",
    "\n",
    "        cont = []\n",
    "        for cnt in contours:\n",
    "                        cnt_len = cv2.arcLength(cnt, True)\n",
    "                        cnt = cv2.approxPolyDP(cnt, 0.002*cnt_len, True)\n",
    "                        cont.append(cnt)\n",
    "        image_app = image\n",
    "\n",
    "\n",
    "        a = []\n",
    "        for i in contours:\n",
    "            a.append(len(i))\n",
    "        ind = (a.index(max(a)))\n",
    "\n",
    "        cv2.drawContours(image_app, contours, ind, (0, 0, 255), 2)\n",
    "    #     viewImage(image_app)\n",
    "\n",
    "        x =  contours[ind][:, 0][:, 0]\n",
    "        y = ( contours[ind][:, 0][:, 1])\n",
    "        df = pd.DataFrame()\n",
    "        df['x'] = x\n",
    "        df['y'] = y\n",
    "        print(df)\n",
    "\n",
    "        path = \"C:/Users/gorar/Desktop/mipt/lab_term/drops/git_drops/\"\n",
    "\n",
    "        df.to_csv(path + name+\".csv\")\n",
    "#     plt.plot(x, y)\n",
    "    except:\n",
    "        print('file doesnt exist', name)"
   ]
  },
  {
   "cell_type": "code",
   "execution_count": null,
   "metadata": {},
   "outputs": [],
   "source": [
    "\n"
   ]
  }
 ],
 "metadata": {
  "kernelspec": {
   "display_name": "Python 3",
   "language": "python",
   "name": "python3"
  },
  "language_info": {
   "codemirror_mode": {
    "name": "ipython",
    "version": 3
   },
   "file_extension": ".py",
   "mimetype": "text/x-python",
   "name": "python",
   "nbconvert_exporter": "python",
   "pygments_lexer": "ipython3",
   "version": "3.7.6"
  }
 },
 "nbformat": 4,
 "nbformat_minor": 4
}
