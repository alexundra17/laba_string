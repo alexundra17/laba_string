{
 "cells": [
  {
   "cell_type": "code",
   "execution_count": 1,
   "metadata": {},
   "outputs": [],
   "source": [
    "import cv2\n",
    "import numpy as np"
   ]
  },
  {
   "cell_type": "code",
   "execution_count": 3,
   "metadata": {},
   "outputs": [
    {
     "name": "stdout",
     "output_type": "stream",
     "text": [
      "[[[0 0 0]]]\n"
     ]
    }
   ],
   "source": [
    "white = np.uint8([[[0, 0, 0 ]]])\n",
    "white_hsv = cv2.cvtColor(white,cv2.COLOR_BGR2HSV)\n",
    "print( white_hsv)\n"
   ]
  },
  {
   "cell_type": "code",
   "execution_count": 4,
   "metadata": {},
   "outputs": [],
   "source": [
    "image = cv2.imread('drop_example.png')\n",
    "hsv_img = cv2.cvtColor(image, cv2.COLOR_BGR2HSV)\n",
    "\n",
    "# viewImage(hsv_img) \n",
    "\n"
   ]
  },
  {
   "cell_type": "code",
   "execution_count": 5,
   "metadata": {},
   "outputs": [],
   "source": [
    "white_low = np.array([0 , 0, 0] )\n",
    "white_high = np.array([1, 1, 1])\n",
    "\n",
    "curr_mask = cv2.inRange(hsv_img, white_low, white_high)\n",
    "hsv_img[curr_mask > 0] = ([0,0,0])\n",
    "# viewImage(hsv_img) ## 2"
   ]
  },
  {
   "cell_type": "code",
   "execution_count": 6,
   "metadata": {},
   "outputs": [],
   "source": [
    "# converting the HSV image to Gray inorder to be able to apply \n",
    "# contouring\n",
    "RGB_again = cv2.cvtColor(hsv_img, cv2.COLOR_HSV2RGB)\n",
    "gray = cv2.cvtColor(RGB_again, cv2.COLOR_RGB2GRAY)\n",
    "# viewImage(gray) ## 3\n",
    "ret, threshold = cv2.threshold(gray, 146, 255, 0)\n",
    "viewImage(threshold) ## 4\n",
    "contours, hierarchy =  cv2.findContours(threshold,cv2.RETR_TREE,cv2.CHAIN_APPROX_NONE)\n",
    "image2 = cv2.drawContours(image, contours, -1, (0, 0, 255), 1)\n",
    "viewImage(image2) ## 5\n",
    "\n",
    "\n",
    "\n",
    "cont = []\n",
    "for cnt in contours:\n",
    "                cnt_len = cv2.arcLength(cnt, True)\n",
    "                cnt = cv2.approxPolyDP(cnt, 0.01*cnt_len, True)\n",
    "                cont.append(cnt)\n",
    "\n",
    "image_app = cv2.drawContours(image, cont, -1, (0, 0, 255), 1)\n",
    "viewImage(image_app)"
   ]
  },
  {
   "cell_type": "code",
   "execution_count": 9,
   "metadata": {},
   "outputs": [
    {
     "data": {
      "text/plain": [
       "True"
      ]
     },
     "execution_count": 9,
     "metadata": {},
     "output_type": "execute_result"
    }
   ],
   "source": [
    "cv2.imwrite('drop.png', image2)\n"
   ]
  },
  {
   "cell_type": "code",
   "execution_count": 2,
   "metadata": {},
   "outputs": [],
   "source": [
    "def viewImage(image):\n",
    "    window_name = 'image'\n",
    "    cv2.imshow(window_name, image)\n",
    "    cv2.waitKey(0)\n",
    "    cv2.destroyAllWindows()"
   ]
  },
  {
   "cell_type": "code",
   "execution_count": null,
   "metadata": {},
   "outputs": [],
   "source": []
  }
 ],
 "metadata": {
  "kernelspec": {
   "display_name": "Python 3",
   "language": "python",
   "name": "python3"
  },
  "language_info": {
   "codemirror_mode": {
    "name": "ipython",
    "version": 3
   },
   "file_extension": ".py",
   "mimetype": "text/x-python",
   "name": "python",
   "nbconvert_exporter": "python",
   "pygments_lexer": "ipython3",
   "version": "3.7.6"
  }
 },
 "nbformat": 4,
 "nbformat_minor": 4
}
